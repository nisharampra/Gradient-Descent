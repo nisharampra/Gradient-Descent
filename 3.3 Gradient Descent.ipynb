{
 "cells": [
  {
   "cell_type": "markdown",
   "metadata": {},
   "source": [
    "# Gradient Descent\n",
    "## Instructions:\n",
    "* Go through the notebook and complete the tasks. \n",
    "* Make sure you understand the examples given. If you need help, refer to the Essential readings or the documentation link provided, or go to the discussion forum. \n",
    "* Save your notebooks when you are done.\n",
    "\n",
    "This notebook will give you the chance to implement the gradient descent algorithm to solve a linear regression problem. \n",
    "\n",
    "The main steps involved will be:\n",
    "\n",
    "    Within a loop -\n",
    "    1. Calculate the hypothesis h \n",
    "    2. Calculate the loss \n",
    "    3. Calculate the gradient descent update \n",
    "    4. stop loop when loss falls stops changing\n",
    "\n",
    "\n",
    "**Task 1:**\n",
    "\n",
    "The first task is to load the diabetes dataset (from notebook 3.2), select one feature (bmi, the 2nd indexed feature), and split it into a training set (90%) and a test set (10%). Plot the data as a scatter plot.\n"
   ]
  },
  {
   "cell_type": "code",
   "execution_count": 1,
   "metadata": {},
   "outputs": [
    {
     "name": "stdout",
     "output_type": "stream",
     "text": [
      "Intercept (theta 0): \n",
      " 152.81627065184932\n",
      "Coefficients (theta 1): \n",
      " [950.32377868]\n",
      "Mean squared error: 3943.68\n"
     ]
    },
    {
     "data": {
      "image/png": "[encoded data removed]",
      "text/plain": [
       "<Figure size 432x288 with 1 Axes>"
      ]
     },
     "metadata": {
      "needs_background": "light"
     },
     "output_type": "display_data"
    }
   ],
   "source": [
    "import numpy as np\n",
    "import matplotlib.pyplot as plt\n",
    "from sklearn import datasets, linear_model\n",
    "from sklearn.metrics import mean_squared_error, r2_score\n",
    "\n",
    "# Load the diabetes dataset\n",
    "diabetes = datasets.load_diabetes()\n",
    "\n",
    "# Extract the bmi feature (index 2)\n",
    "X_diabetes = diabetes.data[:, np.newaxis, 2]\n",
    "\n",
    "# Select 10% for testing, 90% for training\n",
    "data_len = len(diabetes.target)\n",
    "nTestSamples = int(0.1 * data_len)\n",
    "idx = np.arange(data_len)\n",
    "np.random.shuffle(idx)  # Shuffle the indices\n",
    "\n",
    "idx_test = idx[:nTestSamples]\n",
    "idx_train = idx[nTestSamples:]\n",
    "\n",
    "X_test = X_diabetes[idx_test]\n",
    "X_train = X_diabetes[idx_train]\n",
    "y_test = diabetes.target[idx_test]\n",
    "y_train = diabetes.target[idx_train]\n",
    "\n",
    "# Create a linear regression object for comparison\n",
    "regr = linear_model.LinearRegression()\n",
    "\n",
    "# Train the model using the training sets\n",
    "regr.fit(X_train, y_train)\n",
    "\n",
    "# Make predictions using the testing set\n",
    "y_pred = regr.predict(X_test)\n",
    "\n",
    "# The coefficients\n",
    "print('Intercept (theta 0): \\n', regr.intercept_)\n",
    "print('Coefficients (theta 1): \\n', regr.coef_)\n",
    "\n",
    "# The mean squared error\n",
    "print(\"Mean squared error: %.2f\" % mean_squared_error(y_test, y_pred))\n",
    "\n",
    "# Plot outputs\n",
    "plt.scatter(X_test, y_test, color='black')\n",
    "plt.plot(X_test, y_pred, color='blue', linewidth=3)\n",
    "plt.xlabel(\"BMI\")\n",
    "plt.ylabel(\"Diabetes Progression\")\n",
    "plt.title(\"Diabetes Progression vs BMI\")\n",
    "plt.show()\n"
   ]
  },
  {
   "cell_type": "markdown",
   "metadata": {},
   "source": [
    "**Task 2:**\n",
    "\n",
    "Write a suitable hypothesis function, ```h_lin```, that can handle an single feature vector and a corresponding 2D parameter (theta)\n"
   ]
  },
  {
   "cell_type": "code",
   "execution_count": 2,
   "metadata": {},
   "outputs": [],
   "source": [
    "def h_lin(X, theta):\n",
    "    'X should be a data vector, theta the parameters'\n",
    "    return theta[0] + theta[1] * X.flatten()  # Ensure X is 1D\n",
    "\n"
   ]
  },
  {
   "cell_type": "markdown",
   "metadata": {},
   "source": [
    "**Task 3:**\n",
    "\n",
    "Write a suitable loss function, ```loss_L2```, that calculates the least-squares loss between a given hypothesis and the target value.\n"
   ]
  },
  {
   "cell_type": "code",
   "execution_count": 3,
   "metadata": {},
   "outputs": [],
   "source": [
    "def loss_L2(h, y):\n",
    "    'Calculate the least-squares loss.' \n",
    "    'h is a vector of predictions by the hypothesis function, y is the target'\n",
    "    return np.mean((h - y) ** 2)\n"
   ]
  },
  {
   "cell_type": "markdown",
   "metadata": {},
   "source": [
    "**Task 4:**\n",
    "\n",
    "Write a suitable function to calculate the gradients, ```gradient_batch```, that operates on both the parameters, ```theta[0]``` (the intercept) and ```theta[1]``` (the gradient coefficient). The function is given the data X, and the target, y. \n",
    "(Remember the difference in gradient calculationn for the intercept term.)"
   ]
  },
  {
   "cell_type": "code",
   "execution_count": 4,
   "metadata": {},
   "outputs": [],
   "source": [
    "def gradient_batch(theta, X, y):\n",
    "    'Calculate the gradients of the loss function for the parameters in theta'\n",
    "    'Given data X and target y'\n",
    "    \n",
    "    m = len(y)  # Number of samples\n",
    "    h = h_lin(X, theta)\n",
    "    \n",
    "    # Gradient calculation\n",
    "    grad = np.array([\n",
    "        (1/m) * np.sum(h - y),  # Gradient for theta[0] (intercept)\n",
    "        (1/m) * np.sum((h - y) * X.flatten())  # Gradient for theta[1] (slope)\n",
    "    ])\n",
    "    \n",
    "    return grad\n",
    "\n",
    "    "
   ]
  },
  {
   "cell_type": "markdown",
   "metadata": {},
   "source": [
    "**Task 5:**\n",
    "\n",
    "Write the batch gradient descent algorithm that iteratively updates the coefficients (an initially selected set of theta values), and stops once the loss function stops changing much (i.e. by about 0.1) \n"
   ]
  },
  {
   "cell_type": "code",
   "execution_count": 5,
   "metadata": {},
   "outputs": [],
   "source": [
    "def batch_gd(X, y, old_theta, alpha, loss_stop_threshold):\n",
    "    'Batch gradient descent training for linear function with a single variable'\n",
    "    theta = old_theta.copy()\n",
    "    \n",
    "    # Initial loss value\n",
    "    loss = loss_L2(h_lin(X, theta), y)\n",
    "    \n",
    "    while True:\n",
    "        # Calculate gradients\n",
    "        grad = gradient_batch(theta, X, y)\n",
    "        \n",
    "        # Update theta\n",
    "        theta -= alpha * grad\n",
    "        \n",
    "        # Calculate new loss\n",
    "        new_loss = loss_L2(h_lin(X, theta), y)\n",
    "        \n",
    "        # Check for convergence\n",
    "        if abs(new_loss - loss) < loss_stop_threshold:\n",
    "            break\n",
    "        \n",
    "        loss = new_loss\n",
    "\n",
    "    print('GD stopped at loss %s, with coefficients: %s' % (loss, theta))\n",
    "    return theta\n",
    "\n"
   ]
  },
  {
   "cell_type": "markdown",
   "metadata": {},
   "source": [
    "**Task 6:**\n",
    "\n",
    "Train your algorithm using the training data, then test it using the test set. Compare the performance of your algorithm to the sklearn solution. Have a play with some of the parameters you can tweak, particularly learning rate and stopping criterion.\n",
    "\n"
   ]
  },
  {
   "cell_type": "code",
   "execution_count": 6,
   "metadata": {},
   "outputs": [
    {
     "name": "stdout",
     "output_type": "stream",
     "text": [
      "GD stopped at loss 3929.807543245161, with coefficients: [152.70207487 808.9688132 ]\n",
      "Intercept (theta 0): \n",
      " 152.70207487449449\n",
      "Coefficients (theta 1): \n",
      " 808.9688132047643\n",
      "Mean squared error: 3987.09\n"
     ]
    },
    {
     "data": {
      "image/png": "[encoded data removed]",
      "text/plain": [
       "<Figure size 432x288 with 1 Axes>"
      ]
     },
     "metadata": {
      "needs_background": "light"
     },
     "output_type": "display_data"
    }
   ],
   "source": [
    "# Set initial theta values\n",
    "theta = [100, 2]\n",
    "\n",
    "# Set stopping criterion\n",
    "loss_stop_threshold = 0.1\n",
    "\n",
    "# Learning rate\n",
    "alpha = 0.5\n",
    "\n",
    "# Train the model using batch gradient descent\n",
    "theta = batch_gd(X_train, y_train, theta, alpha, loss_stop_threshold)\n",
    "\n",
    "# Predictions using the trained model\n",
    "y_pred = h_lin(X_test, theta)\n",
    "\n",
    "# The coefficients\n",
    "print('Intercept (theta 0): \\n', theta[0])\n",
    "print('Coefficients (theta 1): \\n', theta[1])\n",
    "\n",
    "# The mean squared error\n",
    "print(\"Mean squared error: %.2f\" % mean_squared_error(y_test, y_pred))\n",
    "\n",
    "# Plot outputs using test data\n",
    "plt.scatter(X_test, y_test, color='black')\n",
    "plt.plot(X_test, y_pred, color='blue', linewidth=3)\n",
    "plt.xlabel(\"BMI\")\n",
    "plt.ylabel(\"Diabetes Progression\")\n",
    "plt.title(\"Diabetes Progression vs BMI with Custom GD\")\n",
    "plt.show()\n",
    "\n"
   ]
  },
  {
   "cell_type": "code",
   "execution_count": null,
   "metadata": {},
   "outputs": [],
   "source": []
  }
 ],
 "metadata": {
  "kernelspec": {
   "display_name": "Python 3",
   "language": "python",
   "name": "python3"
  },
  "language_info": {
   "codemirror_mode": {
    "name": "ipython",
    "version": 3
   },
   "file_extension": ".py",
   "mimetype": "text/x-python",
   "name": "python",
   "nbconvert_exporter": "python",
   "pygments_lexer": "ipython3",
   "version": "3.7.6"
  }
 },
 "nbformat": 4,
 "nbformat_minor": 2
}
